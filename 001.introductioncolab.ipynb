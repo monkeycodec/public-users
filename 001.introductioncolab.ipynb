{
  "nbformat": 4,
  "nbformat_minor": 0,
  "metadata": {
    "colab": {
      "name": "Untitled0.ipynb",
      "provenance": [],
      "include_colab_link": true
    },
    "kernelspec": {
      "name": "python3",
      "display_name": "Python 3"
    }
  },
  "cells": [
    {
      "cell_type": "markdown",
      "metadata": {
        "id": "view-in-github",
        "colab_type": "text"
      },
      "source": [
        "<a href=\"https://colab.research.google.com/github/monkeycodec/public-users/blob/master/001introductioncolab.ipynb\" target=\"_parent\"><img src=\"https://colab.research.google.com/assets/colab-badge.svg\" alt=\"Open In Colab\"/></a>"
      ]
    },
    {
      "cell_type": "markdown",
      "metadata": {
        "id": "7LqusCg4WYH9",
        "colab_type": "text"
      },
      "source": [
        "\n",
        "\n",
        "<p><img alt=\"Monkey Codec\" height=\"150px\" src=\"https://instagram.fbog11-1.fna.fbcdn.net/vp/97fa19ccbff28625899c4397b9ab6f34/5E3849B4/t51.2885-19/s150x150/70770849_1031197927074699_2623369348701487104_n.jpg?_nc_ht=instagram.fbog11-1.fna.fbcdn.net\" align=\"left\" hspace=\"10px\" vspace=\"0px\"></p>\n",
        "\n",
        "\n",
        "<h1> Colaboratory or Google Colab </h1>\n",
        "\n",
        "\n",
        "As Google says ***Collaboratory is a free Jupyter Notebook environment that requires no configuration and runs completely in the cloud.***\n",
        "\n",
        "***Colaboratory allows you to write and execute code, save and share your analysis and have access to very powerful computing resources, all for free from the browser.***\n",
        "\n",
        "\n",
        "---\n",
        "\n",
        "**What is collaborative?**\n",
        "Collaboration is a research tool for machine learning education and research. It is a Jupyter notebook environment that does not require configuration for use.\n",
        "\n",
        "---\n",
        "\n",
        "\n",
        "**What is the difference between Jupyter and Colaboratory?**\n",
        "Jupyter is the open source project on which Collaboratory is based. Colaboratory allows you to use and share Jupyter notebooks with others without having to download, install or run anything on your own computer other than a browser.\n",
        "\n",
        "\n",
        "---\n",
        "\n",
        "\n",
        "**What distribution does Google Colab run on?**\n",
        "Colab runs on ***Ubuntu*** which is a Linux distribution based on the Debian architecture, one of the advantages of using Colab is that it will allow us to execute commands directly to the server through the Jupyter notebook, the commands should be preceded for \"!\", if you don't have it, interpret it as Python code\n",
        "\n",
        "\n",
        "\n",
        "\n",
        "---\n",
        "\n",
        "**Considerations**\n",
        "\n",
        "\n",
        "0. You must have a Google account\n",
        "1. There are two types of cells Code and Text, which the first serves to encode and the second to document\n",
        "2. Synchronize web books with Google Drive\n",
        "3. Allows synchronizing jobs with GitHub\n",
        "4. You can work with Python 2.7 or 3.x\n",
        "5. You can synchronize GitHub repositories\n",
        "6. If you want to execute commands in any place you must start with!\n",
        "7. You can install non-collaborative dependencies both python and Linux\n",
        "\n",
        "\n"
      ]
    },
    {
      "cell_type": "code",
      "metadata": {
        "id": "dyha4lb5bdeX",
        "colab_type": "code",
        "colab": {
          "base_uri": "https://localhost:8080/",
          "height": 301
        },
        "outputId": "4e5b3d84-5884-4be7-e828-3d5e506a1903"
      },
      "source": [
        "!echo \"0. release information\"\n",
        "!cat /etc/*-release"
      ],
      "execution_count": 11,
      "outputs": [
        {
          "output_type": "stream",
          "text": [
            "DISTRIB_ID=Ubuntu\n",
            "DISTRIB_RELEASE=18.04\n",
            "DISTRIB_CODENAME=bionic\n",
            "DISTRIB_DESCRIPTION=\"Ubuntu 18.04.3 LTS\"\n",
            "NAME=\"Ubuntu\"\n",
            "VERSION=\"18.04.3 LTS (Bionic Beaver)\"\n",
            "ID=ubuntu\n",
            "ID_LIKE=debian\n",
            "PRETTY_NAME=\"Ubuntu 18.04.3 LTS\"\n",
            "VERSION_ID=\"18.04\"\n",
            "HOME_URL=\"https://www.ubuntu.com/\"\n",
            "SUPPORT_URL=\"https://help.ubuntu.com/\"\n",
            "BUG_REPORT_URL=\"https://bugs.launchpad.net/ubuntu/\"\n",
            "PRIVACY_POLICY_URL=\"https://www.ubuntu.com/legal/terms-and-policies/privacy-policy\"\n",
            "VERSION_CODENAME=bionic\n",
            "UBUNTU_CODENAME=bionic\n"
          ],
          "name": "stdout"
        }
      ]
    },
    {
      "cell_type": "code",
      "metadata": {
        "id": "JmzyfaN_ffTr",
        "colab_type": "code",
        "colab": {
          "base_uri": "https://localhost:8080/",
          "height": 318
        },
        "outputId": "d2ebe102-7095-4845-bce9-d079805889ca"
      },
      "source": [
        "!echo \"1. disk free\"\n",
        "!df -h\n",
        "!echo \"\"\n",
        "!echo \"\"\n",
        "!echo \"2. memory free\"\n",
        "!free -h"
      ],
      "execution_count": 14,
      "outputs": [
        {
          "output_type": "stream",
          "text": [
            "1. disk free\n",
            "Filesystem      Size  Used Avail Use% Mounted on\n",
            "overlay          49G   25G   22G  54% /\n",
            "tmpfs            64M     0   64M   0% /dev\n",
            "tmpfs           6.4G     0  6.4G   0% /sys/fs/cgroup\n",
            "tmpfs           6.4G  8.0K  6.4G   1% /var/colab\n",
            "/dev/sda1        55G   27G   29G  48% /etc/hosts\n",
            "shm             6.0G  4.0K  6.0G   1% /dev/shm\n",
            "tmpfs           6.4G     0  6.4G   0% /proc/acpi\n",
            "tmpfs           6.4G     0  6.4G   0% /proc/scsi\n",
            "tmpfs           6.4G     0  6.4G   0% /sys/firmware\n",
            "\n",
            "\n",
            "2. memory free\n",
            "              total        used        free      shared  buff/cache   available\n",
            "Mem:            12G        515M         10G        844K        1.7G         11G\n",
            "Swap:            0B          0B          0B\n"
          ],
          "name": "stdout"
        }
      ]
    },
    {
      "cell_type": "code",
      "metadata": {
        "id": "hSoFfRqwbba_",
        "colab_type": "code",
        "colab": {
          "base_uri": "https://localhost:8080/",
          "height": 692
        },
        "outputId": "b414665d-fc4b-4303-9692-1b21d7477747"
      },
      "source": [
        "!echo -e \"3. available commands: \\n\"\n",
        "!ls /etc"
      ],
      "execution_count": 16,
      "outputs": [
        {
          "output_type": "stream",
          "text": [
            "3. available commands: \n",
            "\n",
            "adduser.conf\t\tgtk-3.0\t\t mke2fs.conf\t  rc4.d\n",
            "alternatives\t\thost.conf\t modprobe.d\t  rc5.d\n",
            "apparmor.d\t\thostname\t modules\t  rc6.d\n",
            "apt\t\t\thosts\t\t modules-load.d   rcS.d\n",
            "bash.bashrc\t\thosts.allow\t mtab\t\t  resolv.conf\n",
            "bash_completion.d\thosts.deny\t mysql\t\t  rmt\n",
            "bindresvport.blacklist\tinit.d\t\t networks\t  securetty\n",
            "binfmt.d\t\tinputrc\t\t nsswitch.conf\t  security\n",
            "ca-certificates\t\tipython\t\t ODBCDataSources  selinux\n",
            "ca-certificates.conf\tissue\t\t odbc.ini\t  sensors3.conf\n",
            "calendar\t\tissue.net\t odbcinst.ini\t  sensors.d\n",
            "cron.daily\t\tjava-11-openjdk  openal\t\t  shadow\n",
            "cron.weekly\t\tjava-8-openjdk\t OpenCL\t\t  shadow-\n",
            "dbus-1\t\t\tjupyter\t\t openmpi\t  shells\n",
            "debconf.conf\t\tkernel\t\t opt\t\t  skel\n",
            "debian_version\t\tldap\t\t os-release\t  ssh\n",
            "default\t\t\tld.so.cache\t pam.conf\t  ssl\n",
            "deluser.conf\t\tld.so.conf\t pam.d\t\t  subgid\n",
            "depmod.d\t\tld.so.conf.d\t papersize\t  subuid\n",
            "dhcp\t\t\tlegal\t\t passwd\t\t  sudoers\n",
            "dkms\t\t\tlibaudit.conf\t passwd-\t  sudoers.d\n",
            "dpkg\t\t\tlibibverbs.d\t perl\t\t  sysctl.conf\n",
            "emacs\t\t\tlibnl-3\t\t pip.conf\t  sysctl.d\n",
            "environment\t\tlibpaper.d\t polkit-1\t  systemd\n",
            "ffserver.conf\t\tlocale.alias\t profile\t  terminfo\n",
            "fonts\t\t\tlocale.gen\t profile.d\t  timezone\n",
            "fstab\t\t\tlocaltime\t pulse\t\t  tmpfiles.d\n",
            "fuse.conf\t\tlogcheck\t python\t\t  ucf.conf\n",
            "gai.conf\t\tlogin.defs\t python2.7\t  udev\n",
            "glvnd\t\t\tlogrotate.d\t python3\t  update-motd.d\n",
            "groff\t\t\tlsb-release\t python3.6\t  vdpau_wrapper.cfg\n",
            "group\t\t\tmachine-id\t R\t\t  wgetrc\n",
            "group-\t\t\tmailcap\t\t rc0.d\t\t  X11\n",
            "gshadow\t\t\tmailcap.order\t rc1.d\t\t  xdg\n",
            "gshadow-\t\tmanpath.config\t rc2.d\n",
            "gss\t\t\tmime.types\t rc3.d\n"
          ],
          "name": "stdout"
        }
      ]
    },
    {
      "cell_type": "code",
      "metadata": {
        "id": "tZrMqkpabdhX",
        "colab_type": "code",
        "colab": {
          "base_uri": "https://localhost:8080/",
          "height": 798
        },
        "outputId": "a03e9b96-f6c5-4e6c-af18-7683bac4e5f2"
      },
      "source": [
        "!echo -e \"4. using git: \\n\"\n",
        "!git"
      ],
      "execution_count": 18,
      "outputs": [
        {
          "output_type": "stream",
          "text": [
            "4. using git: \n",
            "\n",
            "usage: git [--version] [--help] [-C <path>] [-c <name>=<value>]\n",
            "           [--exec-path[=<path>]] [--html-path] [--man-path] [--info-path]\n",
            "           [-p | --paginate | --no-pager] [--no-replace-objects] [--bare]\n",
            "           [--git-dir=<path>] [--work-tree=<path>] [--namespace=<name>]\n",
            "           <command> [<args>]\n",
            "\n",
            "These are common Git commands used in various situations:\n",
            "\n",
            "start a working area (see also: git help tutorial)\n",
            "   clone      Clone a repository into a new directory\n",
            "   init       Create an empty Git repository or reinitialize an existing one\n",
            "\n",
            "work on the current change (see also: git help everyday)\n",
            "   add        Add file contents to the index\n",
            "   mv         Move or rename a file, a directory, or a symlink\n",
            "   reset      Reset current HEAD to the specified state\n",
            "   rm         Remove files from the working tree and from the index\n",
            "\n",
            "examine the history and state (see also: git help revisions)\n",
            "   bisect     Use binary search to find the commit that introduced a bug\n",
            "   grep       Print lines matching a pattern\n",
            "   log        Show commit logs\n",
            "   show       Show various types of objects\n",
            "   status     Show the working tree status\n",
            "\n",
            "grow, mark and tweak your common history\n",
            "   branch     List, create, or delete branches\n",
            "   checkout   Switch branches or restore working tree files\n",
            "   commit     Record changes to the repository\n",
            "   diff       Show changes between commits, commit and working tree, etc\n",
            "   merge      Join two or more development histories together\n",
            "   rebase     Reapply commits on top of another base tip\n",
            "   tag        Create, list, delete or verify a tag object signed with GPG\n",
            "\n",
            "collaborate (see also: git help workflows)\n",
            "   fetch      Download objects and refs from another repository\n",
            "   pull       Fetch from and integrate with another repository or a local branch\n",
            "   push       Update remote refs along with associated objects\n",
            "\n",
            "'git help -a' and 'git help -g' list available subcommands and some\n",
            "concept guides. See 'git help <command>' or 'git help <concept>'\n",
            "to read about a specific subcommand or concept.\n"
          ],
          "name": "stdout"
        }
      ]
    },
    {
      "cell_type": "code",
      "metadata": {
        "id": "fhQscRMWbdka",
        "colab_type": "code",
        "colab": {
          "base_uri": "https://localhost:8080/",
          "height": 461
        },
        "outputId": "f67864f5-b00e-4fc0-bf2c-1be46559aa2f"
      },
      "source": [
        "#if you want show all libraries remove | head -n 20 of the command.\n",
        "!echo -e \"5. show all instelled libraries (samples 20): \\n\"\n",
        "!pip list | head -n 20"
      ],
      "execution_count": 25,
      "outputs": [
        {
          "output_type": "stream",
          "text": [
            "5. show all instelled libraries (samples 20): \n",
            "\n",
            "Package                  Version              \n",
            "------------------------ ---------------------\n",
            "absl-py                  0.8.0                \n",
            "alabaster                0.7.12               \n",
            "albumentations           0.1.12               \n",
            "altair                   3.2.0                \n",
            "astor                    0.8.0                \n",
            "astropy                  3.0.5                \n",
            "atari-py                 0.1.15               \n",
            "atomicwrites             1.3.0                \n",
            "attrs                    19.2.0               \n",
            "audioread                2.1.8                \n",
            "autograd                 1.3                  \n",
            "Babel                    2.7.0                \n",
            "backcall                 0.1.0                \n",
            "backports.tempfile       1.0                  \n",
            "backports.weakref        1.0.post1            \n",
            "beautifulsoup4           4.6.3                \n",
            "bleach                   3.1.0                \n",
            "blis                     0.2.4                \n",
            "ERROR: Pipe to stdout was broken\n",
            "Exception ignored in: <_io.TextIOWrapper name='<stdout>' mode='w' encoding='UTF-8'>\n",
            "BrokenPipeError: [Errno 32] Broken pipe\n"
          ],
          "name": "stdout"
        }
      ]
    },
    {
      "cell_type": "code",
      "metadata": {
        "id": "T20SjKQIbdnH",
        "colab_type": "code",
        "colab": {
          "base_uri": "https://localhost:8080/",
          "height": 336
        },
        "outputId": "18001e9d-191d-4443-dcc1-057347068389"
      },
      "source": [
        "!echo -e \"6. install tree library : \\n\"\n",
        "!apt-get install tree"
      ],
      "execution_count": 26,
      "outputs": [
        {
          "output_type": "stream",
          "text": [
            "6. install tree library : \n",
            "\n",
            "Reading package lists... Done\n",
            "Building dependency tree       \n",
            "Reading state information... Done\n",
            "The following NEW packages will be installed:\n",
            "  tree\n",
            "0 upgraded, 1 newly installed, 0 to remove and 8 not upgraded.\n",
            "Need to get 40.7 kB of archives.\n",
            "After this operation, 105 kB of additional disk space will be used.\n",
            "Get:1 http://archive.ubuntu.com/ubuntu bionic/universe amd64 tree amd64 1.7.0-5 [40.7 kB]\n",
            "Fetched 40.7 kB in 0s (82.2 kB/s)\n",
            "Selecting previously unselected package tree.\n",
            "(Reading database ... 131183 files and directories currently installed.)\n",
            "Preparing to unpack .../tree_1.7.0-5_amd64.deb ...\n",
            "Unpacking tree (1.7.0-5) ...\n",
            "Setting up tree (1.7.0-5) ...\n",
            "Processing triggers for man-db (2.8.3-2ubuntu0.1) ...\n"
          ],
          "name": "stdout"
        }
      ]
    },
    {
      "cell_type": "code",
      "metadata": {
        "id": "Q1COzPrRbdpb",
        "colab_type": "code",
        "colab": {
          "base_uri": "https://localhost:8080/",
          "height": 247
        },
        "outputId": "b9cf2c39-4598-4a4f-8076-43732f2fa216"
      },
      "source": [
        "!echo -e \"7. install python library : \\n\"\n",
        "!pip install pprint"
      ],
      "execution_count": 27,
      "outputs": [
        {
          "output_type": "stream",
          "text": [
            "7. install python library : \n",
            "\n",
            "Collecting pprint\n",
            "  Downloading https://files.pythonhosted.org/packages/99/12/b6383259ef85c2b942ab9135f322c0dce83fdca8600d87122d2b0181451f/pprint-0.1.tar.gz\n",
            "Building wheels for collected packages: pprint\n",
            "  Building wheel for pprint (setup.py) ... \u001b[?25l\u001b[?25hdone\n",
            "  Created wheel for pprint: filename=pprint-0.1-cp36-none-any.whl size=1250 sha256=9d769dad3d351dc4c550208af7bec5e89666387588a27f1d1a4a216991199653\n",
            "  Stored in directory: /root/.cache/pip/wheels/42/d4/c6/16a6495aecc1bda5d5857bd036efd50617789ba9bea4a05124\n",
            "Successfully built pprint\n",
            "Installing collected packages: pprint\n",
            "Successfully installed pprint-0.1\n"
          ],
          "name": "stdout"
        },
        {
          "output_type": "stream",
          "text": [
            "Exception ignored in: <_io.FileIO name='/usr/local/lib/python3.6/dist-packages/pprint-0.1.dist-info/top_level.txt' mode='rb' closefd=True>\n",
            "ResourceWarning: unclosed file <_io.TextIOWrapper name='/usr/local/lib/python3.6/dist-packages/pprint-0.1.dist-info/top_level.txt' mode='r' encoding='UTF-8'>\n"
          ],
          "name": "stderr"
        }
      ]
    },
    {
      "cell_type": "code",
      "metadata": {
        "id": "eTaeyIlbnZlA",
        "colab_type": "code",
        "colab": {
          "base_uri": "https://localhost:8080/",
          "height": 176
        },
        "outputId": "45968086-94cf-426c-d467-51d55fc76b7e"
      },
      "source": [
        "!echo -e \"8. combining bash and Python : \\n\"\n",
        "\n",
        "intro=\"\"\"\n",
        "This content is designed and / or shared by Monkey Codec, follow me on:\n",
        "\n",
        "twitter   : @MonkeyCodec\n",
        "instagram : monkeycodec\n",
        "facebook  : @monkeycodec\n",
        "\"\"\"\n",
        "print(intro)"
      ],
      "execution_count": 28,
      "outputs": [
        {
          "output_type": "stream",
          "text": [
            "8. conbining bash and Python : \n",
            "\n",
            "\n",
            "This content is designed and / or shared by Monkey Codec, follow me on:\n",
            "\n",
            "twitter   : @MonkeyCodec\n",
            "instagram : monkeycodec\n",
            "facebook  : @monkeycodec\n",
            "\n"
          ],
          "name": "stdout"
        }
      ]
    },
    {
      "cell_type": "code",
      "metadata": {
        "id": "S7_EvzWAt1EE",
        "colab_type": "code",
        "colab": {
          "base_uri": "https://localhost:8080/",
          "height": 321
        },
        "outputId": "5a984dce-331c-4462-db6a-aec329f678ff"
      },
      "source": [
        "#!echo -e \"8.using magics see (https://nbviewer.jupyter.org/github/ipython/ipython/blob/1.x/examples/notebooks/Cell%20Magics.ipynb): \\n\"\n",
        "%%html\n",
        "<svg width=\"100%\" height=\"300px\">\n",
        "<g id=\"R1\" transform=\"translate(250 250)\"> \n",
        "  <ellipse rx=\"100\" ry=\"0\" opacity=\".3\">\n",
        "  <animateTransform attributeName=\"transform\" type=\"rotate\" dur=\"7s\" from=\"0\" to=\"360\" repeatCount=\"indefinite\" />\n",
        "  <animate attributeName=\"cx\" dur=\"8s\" values=\"-20; 220; -20\" repeatCount=\"indefinite\" />\n",
        "  <animate attributeName=\"ry\" dur=\"3s\" values=\"10; 60; 10\" repeatCount=\"indefinite\" />\n",
        "  </ellipse>\n",
        "</g>\n",
        "<use xlink:href=\"#R1\" transform=\"rotate(72 390 150)\" />\n",
        "<use xlink:href=\"#R1\" transform=\"rotate(144 390 150)\" />\n",
        "<use xlink:href=\"#R1\" transform=\"rotate(216 390 150)\" />\n",
        "<use xlink:href=\"#R1\" transform=\"rotate(288 390 150)\" />\n",
        "</svg>\n"
      ],
      "execution_count": 42,
      "outputs": [
        {
          "output_type": "display_data",
          "data": {
            "text/html": [
              "<svg width=\"100%\" height=\"300px\">\n",
              "<g id=\"R1\" transform=\"translate(250 250)\"> \n",
              "  <ellipse rx=\"100\" ry=\"0\" opacity=\".3\">\n",
              "  <animateTransform attributeName=\"transform\" type=\"rotate\" dur=\"7s\" from=\"0\" to=\"360\" repeatCount=\"indefinite\" />\n",
              "  <animate attributeName=\"cx\" dur=\"8s\" values=\"-20; 220; -20\" repeatCount=\"indefinite\" />\n",
              "  <animate attributeName=\"ry\" dur=\"3s\" values=\"10; 60; 10\" repeatCount=\"indefinite\" />\n",
              "  </ellipse>\n",
              "</g>\n",
              "<use xlink:href=\"#R1\" transform=\"rotate(72 390 150)\" />\n",
              "<use xlink:href=\"#R1\" transform=\"rotate(144 390 150)\" />\n",
              "<use xlink:href=\"#R1\" transform=\"rotate(216 390 150)\" />\n",
              "<use xlink:href=\"#R1\" transform=\"rotate(288 390 150)\" />\n",
              "</svg>"
            ],
            "text/plain": [
              "<IPython.core.display.HTML object>"
            ]
          },
          "metadata": {
            "tags": []
          }
        }
      ]
    }
  ]
}
